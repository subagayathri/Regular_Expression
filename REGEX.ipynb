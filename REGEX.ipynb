{
  "nbformat": 4,
  "nbformat_minor": 0,
  "metadata": {
    "colab": {
      "provenance": [],
      "collapsed_sections": [],
      "authorship_tag": "ABX9TyN/USFdjEqucxGEQ+qPsetm",
      "include_colab_link": true
    },
    "kernelspec": {
      "name": "python3",
      "display_name": "Python 3"
    },
    "language_info": {
      "name": "python"
    }
  },
  "cells": [
    {
      "cell_type": "markdown",
      "metadata": {
        "id": "view-in-github",
        "colab_type": "text"
      },
      "source": [
        "<a href=\"https://colab.research.google.com/github/subagayathri/Regular_Expression/blob/main/REGEX.ipynb\" target=\"_parent\"><img src=\"https://colab.research.google.com/assets/colab-badge.svg\" alt=\"Open In Colab\"/></a>"
      ]
    },
    {
      "cell_type": "code",
      "execution_count": null,
      "metadata": {
        "colab": {
          "base_uri": "https://localhost:8080/"
        },
        "id": "XNSUQ4ulVV2h",
        "outputId": "1de9715c-4436-4d49-8051-67d7617985b0"
      },
      "outputs": [
        {
          "output_type": "stream",
          "name": "stdout",
          "text": [
            "<re.Match object; span=(0, 10), match='9876532253'>\n",
            "Mobile number is valid\n"
          ]
        }
      ],
      "source": [
        "# check if the given mobile number is valid or not\n",
        "# python has inbuild package for regex(regular expressions) that is 're'\n",
        "import re\n",
        "\n",
        "number=\"9876532253\"\n",
        "\n",
        "#search()-> which used to find whether the number is valid or not with below conditions\n",
        "\n",
        "x=re.search(\"[1-9][0-9]{9}\",number)\n",
        "print(x)\n",
        "\n",
        "if x:\n",
        "  print(\"Mobile number is valid\")\n",
        "else:\n",
        "  print(\"Mobile number is invalid\")  "
      ]
    },
    {
      "cell_type": "code",
      "source": [
        "# check if the given mail id is valid or not\n",
        "import re\n",
        "\n",
        "text=\"d@gmail.com\"\n",
        "\n",
        "#search()-> which used to find whether the number is valid or not with below conditions\n",
        "# here '+' indicates one or more occurrance but not zero\n",
        "\n",
        "x=re.search(\"[a-zA-Z0-9]+[@][a-zA-Z0-9]+[.][a-zA-Z0-9]\",text)\n",
        "print(x)\n",
        "\n",
        "if x:\n",
        "  print(\"The Mail is valid\")\n",
        "else:\n",
        "  print(\"The Mail is invalid\")\n",
        "\n",
        "\n",
        "\n"
      ],
      "metadata": {
        "colab": {
          "base_uri": "https://localhost:8080/"
        },
        "id": "6ugQF8cWXigm",
        "outputId": "6de70234-4bae-41e7-e139-2b1d6fe48974"
      },
      "execution_count": null,
      "outputs": [
        {
          "output_type": "stream",
          "name": "stdout",
          "text": [
            "<re.Match object; span=(0, 9), match='d@gmail.c'>\n",
            "The Mail is valid\n"
          ]
        }
      ]
    }
  ]
}